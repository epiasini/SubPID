{
 "cells": [
  {
   "cell_type": "code",
   "execution_count": 1,
   "metadata": {
    "collapsed": true
   },
   "outputs": [],
   "source": [
    "import numpy as np\n",
    "%matplotlib inline\n",
    "from matplotlib import pyplot as plt\n",
    "import seaborn as sns\n",
    "cmap = sns.cubehelix_palette(8, as_cmap=True)"
   ]
  },
  {
   "cell_type": "markdown",
   "metadata": {
    "collapsed": true
   },
   "source": [
    "# Unique-Complementary-Synergistic decomposition"
   ]
  },
  {
   "cell_type": "markdown",
   "metadata": {},
   "source": [
    "Define input probability distribution. This is $P(x,y,z)$, and must be given as a flat array containing the values of the joint probabilities: `P[0]` will be  "
   ]
  },
  {
   "cell_type": "code",
   "execution_count": 12,
   "metadata": {
    "collapsed": true
   },
   "outputs": [],
   "source": [
    "P = np.array([1, 1, 1, 0, 0, 0, 0, 1], dtype=np.float)/4 # this is an AND gate for testing"
   ]
  },
  {
   "cell_type": "markdown",
   "metadata": {},
   "source": [
    "Define optimisation domain"
   ]
  },
  {
   "cell_type": "code",
   "execution_count": 13,
   "metadata": {
    "collapsed": true
   },
   "outputs": [],
   "source": [
    "gamma_0 = np.array([1, -1, -1, 1, 0, 0, 0, 0], dtype=np.float)\n",
    "gamma_1 = np.array([0, 0, 0, 0, 1, -1, -1, 1], dtype=np.float)"
   ]
  },
  {
   "cell_type": "markdown",
   "metadata": {},
   "source": [
    "The optimisation domain is parametrized by\n",
    "\\begin{equation}\n",
    "    Q(a,b) = P + a\\gamma_0 + b\\gamma_1 \n",
    "\\end{equation}\n",
    "where $a$ and $b$ are such that\n",
    "\\begin{gather}\n",
    "    a \\le \\min\\left( \\min_{i\\in \\{2,3\\}}P_i, 1-\\max_{i\\in \\{1,4\\}} P_i\\right)\\\\\n",
    "    a \\ge -\\min\\left( 1 -\\max_{i\\in \\{2,3\\}}P_i, \\min_{i\\in \\{1,4\\}} P_i\\right)\\\\\n",
    "    b \\le \\min\\left( \\min_{i\\in \\{6,7\\}}P_i, 1-\\max_{i\\in \\{5,8\\}} P_i\\right)\\\\\n",
    "    b \\ge -\\min\\left( 1 -\\max_{i\\in \\{6,7\\}}P_i, \\min_{i\\in \\{5,8\\}} P_i\\right)\n",
    "\\end{gather}\n",
    "to ensure that $Q_i(a,b)>0$ for all $i,a,b$."
   ]
  },
  {
   "cell_type": "code",
   "execution_count": 19,
   "metadata": {},
   "outputs": [
    {
     "name": "stdout",
     "output_type": "stream",
     "text": [
      "(-0.0, 0.25) (-0.0, 0.0)\n"
     ]
    }
   ],
   "source": [
    "def a_bounds(P):\n",
    "    upper = min(min(P[1], P[2]), 1-max(P[0], P[3]))\n",
    "    lower = -min(1-max(P[1],P[2]), min(P[0], P[3]))\n",
    "    return lower, upper\n",
    "\n",
    "def b_bounds(P):\n",
    "    upper = min(min(P[5], P[6]), 1-max(P[4], P[7]))\n",
    "    lower = -min(1-max(P[5],P[6]), min(P[4], P[7]))\n",
    "    return lower, upper\n",
    "print a_bounds(P), b_bounds(P)\n",
    "np.array?"
   ]
  },
  {
   "cell_type": "code",
   "execution_count": null,
   "metadata": {
    "collapsed": true
   },
   "outputs": [],
   "source": []
  },
  {
   "cell_type": "code",
   "execution_count": 15,
   "metadata": {},
   "outputs": [],
   "source": [
    "a_range = np.linspace(a_bounds(P)[0], a_bounds(P)[1], 100)\n",
    "b_range = np.linspace(b_bounds(P)[0], b_bounds(P)[1], 100)\n",
    "AA, BB = np.meshgrid(a_range, b_range)"
   ]
  },
  {
   "cell_type": "code",
   "execution_count": 16,
   "metadata": {},
   "outputs": [],
   "source": [
    "def I_2D(Q):\n",
    "    QX = np.atleast_2d(Q.sum(axis=1))\n",
    "    QY = np.atleast_2d(Q.sum(axis=0))\n",
    "    if min(QX.min(), QY.min()) < 0 or Q.min()<0:\n",
    "        raise Exception\n",
    "    table = Q * np.log2(Q / (QX.transpose() * QY))\n",
    "    return table[Q>0].sum()\n",
    "\n",
    "def I_Q_XY(Q):\n",
    "    QXY = Q.reshape((2,2,2)).sum(axis=2)\n",
    "    return I_2D(QXY)\n",
    "\n",
    "def I_Q_XY_Z(Q):\n",
    "    Q_XYZ = Q.reshape((2,2,2))\n",
    "    return Q_XYZ[:,:,0].sum() * I_2D(Q_XYZ[:,:,0]/Q_XYZ[:,:,0].sum()) + Q_XYZ[:,:,1].sum() * I_2D(Q_XYZ[:,:,1]/Q_XYZ[:,:,1].sum())\n",
    "\n",
    "def CoI_Q(a, b):\n",
    "    # co-information CoI_Q(C;fUr;fUo)\n",
    "    Q = P + a * gamma_0 + b * gamma_1\n",
    "    return I_Q_XY(Q) - I_Q_XY_Z(Q)\n"
   ]
  },
  {
   "cell_type": "code",
   "execution_count": 22,
   "metadata": {
    "scrolled": false
   },
   "outputs": [
    {
     "name": "stdout",
     "output_type": "stream",
     "text": [
      "-0.0534944364305 -6.48323861744e-07\n"
     ]
    },
    {
     "data": {
      "text/plain": [
       "<matplotlib.contour.QuadContourSet instance at 0x41ed5f0>"
      ]
     },
     "execution_count": 22,
     "metadata": {},
     "output_type": "execute_result"
    },
    {
     "data": {
      "image/png": "[encoded data removed]",
      "text/plain": [
       "<matplotlib.figure.Figure at 0x41d2fd0>"
      ]
     },
     "metadata": {},
     "output_type": "display_data"
    }
   ],
   "source": [
    "CoIQQ = np.zeros_like(AA)\n",
    "\n",
    "for i in range(AA.shape[0]):\n",
    "    for j in range(AA.shape[1]):\n",
    "        CoIQQ[i,j] = CoI_Q(AA[i,j], BB[i,j])\n",
    "print CoIQQ.min(), CoIQQ.max()\n",
    "\n",
    "SI_cfUrfUo = CoIQQ.max()\n",
    "UI_cfUr = I_cfUr - SI_cfUrfUo\n",
    "UI_cfUo = I_cfUo - SI_cfUrfUo\n",
    "CI_cfUrfUo = I_cfUrfUo - SI_cfUrfUo - UI_cfUr - UI_cfUo\n",
    "\n",
    "fig, ax = plt.subplots()\n",
    "ax.contourf(AA,BB,CoIQQ, cmap=cmap)"
   ]
  },
  {
   "cell_type": "code",
   "execution_count": 23,
   "metadata": {},
   "outputs": [
    {
     "name": "stdout",
     "output_type": "stream",
     "text": [
      "H(C) = 0.680077 bits\n",
      "MI(C:F_R) = -2.02136e-16 bits\n",
      "MI(C:F_O) = 0.211081 bits\n",
      "MI(C:(F_R, F_O)) = 0.211081 bits\n",
      "SI(C: F_R; F_O) = -6.48324e-07 bits\n",
      "CI(C: F_R; F_O) = -6.48324e-07 bits\n",
      "UI(C: F_R \\ F_O) = 6.48324e-07 bits\n",
      "UI(C: F_O \\ F_R) = 0.211082 bits\n"
     ]
    }
   ],
   "source": [
    "print(\"H(C) = {:g} bits\".format(H_c))\n",
    "print(\"MI(C:F_R) = {:g} bits\".format(I_cfUr))\n",
    "print(\"MI(C:F_O) = {:g} bits\".format(I_cfUo))\n",
    "print(\"MI(C:(F_R, F_O)) = {:g} bits\".format(I_cfUrfUo))\n",
    "print(\"SI(C: F_R; F_O) = {:g} bits\".format(SI_cfUrfUo))\n",
    "print(\"CI(C: F_R; F_O) = {:g} bits\".format(CI_cfUrfUo))\n",
    "print(\"UI(C: F_R \\ F_O) = {:g} bits\".format(UI_cfUr))\n",
    "print(\"UI(C: F_O \\ F_R) = {:g} bits\".format(UI_cfUo))"
   ]
  },
  {
   "cell_type": "code",
   "execution_count": 1,
   "metadata": {
    "collapsed": true
   },
   "outputs": [],
   "source": [
    "from information_decomposition import decomposition"
   ]
  },
  {
   "cell_type": "code",
   "execution_count": 2,
   "metadata": {
    "collapsed": true
   },
   "outputs": [],
   "source": [
    "decomposition?"
   ]
  },
  {
   "cell_type": "code",
   "execution_count": null,
   "metadata": {
    "collapsed": true
   },
   "outputs": [],
   "source": [
    "tnu"
   ]
  }
 ],
 "metadata": {
  "kernelspec": {
   "display_name": "Python 2",
   "language": "python",
   "name": "python2"
  },
  "language_info": {
   "codemirror_mode": {
    "name": "ipython",
    "version": 2
   },
   "file_extension": ".py",
   "mimetype": "text/x-python",
   "name": "python",
   "nbconvert_exporter": "python",
   "pygments_lexer": "ipython2",
   "version": "2.7.13"
  }
 },
 "nbformat": 4,
 "nbformat_minor": 1
}
