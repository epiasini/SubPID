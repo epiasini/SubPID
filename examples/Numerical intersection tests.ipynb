{
 "cells": [
  {
   "cell_type": "code",
   "execution_count": 1,
   "metadata": {
    "collapsed": false
   },
   "outputs": [],
   "source": [
    "import numpy as np"
   ]
  },
  {
   "cell_type": "code",
   "execution_count": 2,
   "metadata": {
    "collapsed": true
   },
   "outputs": [],
   "source": [
    "import information_decomposition as pid\n",
    "from intersection_information import intersection_information"
   ]
  },
  {
   "cell_type": "code",
   "execution_count": 3,
   "metadata": {
    "collapsed": false
   },
   "outputs": [],
   "source": [
    "sigma = 0.5\n",
    "rho = 0.1\n",
    "gamma = 0.1\n",
    "\n",
    "# example where SI is only due to signal correlations, as R<-S->C\n",
    "P1 = np.zeros((2,2,2))\n",
    "P1[0,0,0] = sigma*(1-rho)*(1-gamma)\n",
    "P1[0,0,1] = sigma*(1-rho)*(gamma)\n",
    "P1[0,1,0] = sigma*rho*(1-gamma)\n",
    "P1[0,1,1] = sigma*rho*gamma\n",
    "P1[1,0,0] = (1-sigma)*rho*gamma\n",
    "P1[1,0,1] = (1-sigma)*rho*(1-gamma)\n",
    "P1[1,1,0] = (1-sigma)*(1-rho)*(gamma)\n",
    "P1[1,1,1] = (1-sigma)*(1-rho)*(1-gamma)\n",
    "\n",
    "# example that should have nonzero intersection, as S->R==C\n",
    "P2 = np.zeros((2,2,2))\n",
    "P2[0,0,0] = sigma*(1-rho)\n",
    "P2[0,0,1] = 0\n",
    "P2[0,1,0] = 0\n",
    "P2[0,1,1] = sigma*rho\n",
    "P2[1,0,0] = (1-sigma)*rho\n",
    "P2[1,0,1] = 0\n",
    "P2[1,1,0] = 0\n",
    "P2[1,1,1] = (1-sigma)*(1-rho)"
   ]
  },
  {
   "cell_type": "code",
   "execution_count": 6,
   "metadata": {
    "collapsed": false
   },
   "outputs": [
    {
     "name": "stdout",
     "output_type": "stream",
     "text": [
      "(0.0, 0.31992237501539894, 0.31992237501539894)\n",
      "(0.21108203139531984, 0.53100440641071878, 0.31992237501539894)\n"
     ]
    }
   ],
   "source": [
    "print intersection_information(P1)\n",
    "print intersection_information(P2)"
   ]
  },
  {
   "cell_type": "code",
   "execution_count": null,
   "metadata": {
    "collapsed": true
   },
   "outputs": [],
   "source": []
  }
 ],
 "metadata": {
  "kernelspec": {
   "display_name": "Python 2",
   "language": "python",
   "name": "python2"
  },
  "language_info": {
   "codemirror_mode": {
    "name": "ipython",
    "version": 2
   },
   "file_extension": ".py",
   "mimetype": "text/x-python",
   "name": "python",
   "nbconvert_exporter": "python",
   "pygments_lexer": "ipython2",
   "version": "2.7.6"
  }
 },
 "nbformat": 4,
 "nbformat_minor": 0
}
