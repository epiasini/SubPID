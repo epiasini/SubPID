{
 "cells": [
  {
   "cell_type": "code",
   "execution_count": 2,
   "metadata": {
    "collapsed": false
   },
   "outputs": [],
   "source": [
    "import numpy as np\n",
    "import sys\n",
    "sys.path.append(\"../\")\n",
    "\n",
    "import information_decomposition as pid\n",
    "from intersection_information import intersection_information"
   ]
  },
  {
   "cell_type": "code",
   "execution_count": 3,
   "metadata": {
    "collapsed": false
   },
   "outputs": [],
   "source": [
    "# Parameter definitions for the examples\n",
    "sigma = 0.5 # prior probability of s=1\n",
    "rho = 0.1 # bit-flip probability for S->R channel\n",
    "gamma = 0.1 # bit-flip probability for S->C channel where this exists"
   ]
  },
  {
   "cell_type": "code",
   "execution_count": 4,
   "metadata": {
    "collapsed": true
   },
   "outputs": [],
   "source": [
    "# Joint PDF table definitions for the examples\n",
    "\n",
    "# example where SI is only due to signal correlations, as R<-S->C\n",
    "P1 = np.zeros((2,2,2))\n",
    "P1[0,0,0] = sigma*(1-rho)*(1-gamma)\n",
    "P1[0,0,1] = sigma*(1-rho)*(gamma)\n",
    "P1[0,1,0] = sigma*rho*(1-gamma)\n",
    "P1[0,1,1] = sigma*rho*gamma\n",
    "P1[1,0,0] = (1-sigma)*rho*gamma\n",
    "P1[1,0,1] = (1-sigma)*rho*(1-gamma)\n",
    "P1[1,1,0] = (1-sigma)*(1-rho)*(gamma)\n",
    "P1[1,1,1] = (1-sigma)*(1-rho)*(1-gamma)\n",
    "\n",
    "# example that should have nonzero intersection, as S->R==C\n",
    "P2 = np.zeros((2,2,2))\n",
    "P2[0,0,0] = sigma*(1-rho)\n",
    "P2[0,0,1] = 0\n",
    "P2[0,1,0] = 0\n",
    "P2[0,1,1] = sigma*rho\n",
    "P2[1,0,0] = (1-sigma)*rho\n",
    "P2[1,0,1] = 0\n",
    "P2[1,1,0] = 0\n",
    "P2[1,1,1] = (1-sigma)*(1-rho)"
   ]
  },
  {
   "cell_type": "code",
   "execution_count": 58,
   "metadata": {
    "collapsed": false
   },
   "outputs": [
    {
     "name": "stdout",
     "output_type": "stream",
     "text": [
      "(0.0, 0.31992237501539894, 0.31992237501539894)\n",
      "(0.21108203139531984, 0.53100440641071878, 0.31992237501539894)\n"
     ]
    }
   ],
   "source": [
    "# Compute and print intersection information, together with \"non-normalised\" and \"signal correlations-only\" SI values\n",
    "print(intersection_information(P1))\n",
    "print(intersection_information(P2))"
   ]
  },
  {
   "cell_type": "markdown",
   "metadata": {},
   "source": [
    "## Introducing IDTxl"
   ]
  },
  {
   "cell_type": "code",
   "execution_count": 7,
   "metadata": {
    "collapsed": false
   },
   "outputs": [],
   "source": [
    "import idtxl\n",
    "from idtxl.estimators_pid import synergy_tartu"
   ]
  },
  {
   "cell_type": "code",
   "execution_count": 10,
   "metadata": {
    "collapsed": false
   },
   "outputs": [
    {
     "name": "stdout",
     "output_type": "stream",
     "text": [
      "0.531004406411 0.0 0.0 0.0\n"
     ]
    }
   ],
   "source": [
    "# my decomposition for the P2 problem above, as a sanity check\n",
    "[SI, CI, UI_Y, UI_Z] = pid.decomposition(P2)\n",
    "print(SI, CI, UI_Y, UI_Z)"
   ]
  },
  {
   "cell_type": "code",
   "execution_count": 59,
   "metadata": {
    "collapsed": false
   },
   "outputs": [
    {
     "name": "stdout",
     "output_type": "stream",
     "text": [
      "{(0, 1, 1): 0.050000000000000003, (0, 0, 0): 0.45000000000000001, (1, 1, 0): 0.0, (1, 0, 0): 0.050000000000000003, (0, 1, 0): 0.0, (0, 0, 1): 0.0, (1, 1, 1): 0.45000000000000001, (1, 0, 1): 0.0}\n"
     ]
    }
   ],
   "source": [
    "# convert definition of P2 for tartu\n",
    "P = dict()\n",
    "for x in [0,1]:\n",
    "    for y in [0,1]:\n",
    "        for z in [0,1]:\n",
    "            P[(x,y,z)] = P2[x,y,z]\n",
    "print(P)"
   ]
  },
  {
   "cell_type": "code",
   "execution_count": 60,
   "metadata": {
    "collapsed": false
   },
   "outputs": [
    {
     "name": "stdout",
     "output_type": "stream",
     "text": [
      "0.5310044058278642 5.82854542408e-10 0.0 0.0\n"
     ]
    }
   ],
   "source": [
    "[the_p, feas, kkt, wCI, wSI, wUI_Y, wUI_Z] = synergy_tartu.solve_PDF(pdf=P)\n",
    "print(wSI, wCI, wUI_Y, wUI_Z)"
   ]
  },
  {
   "cell_type": "markdown",
   "metadata": {},
   "source": [
    "## Example: dice"
   ]
  },
  {
   "cell_type": "code",
   "execution_count": 55,
   "metadata": {
    "collapsed": false,
    "scrolled": false
   },
   "outputs": [
    {
     "name": "stdout",
     "output_type": "stream",
     "text": [
      "CPU times: user 6.22 s, sys: 12.5 s, total: 18.7 s\n",
      "Wall time: 5.31 s\n",
      "CPU times: user 6.85 s, sys: 14.3 s, total: 21.2 s\n",
      "Wall time: 6.28 s\n",
      "CPU times: user 6.51 s, sys: 12.8 s, total: 19.4 s\n",
      "Wall time: 5.48 s\n",
      "CPU times: user 6.28 s, sys: 12.6 s, total: 18.9 s\n",
      "Wall time: 5.35 s\n",
      "CPU times: user 6.67 s, sys: 12.7 s, total: 19.4 s\n",
      "Wall time: 5.47 s\n",
      "CPU times: user 6.6 s, sys: 13.6 s, total: 20.2 s\n",
      "Wall time: 5.86 s\n",
      "CPU times: user 6.62 s, sys: 13.3 s, total: 19.9 s\n",
      "Wall time: 5.84 s\n",
      "CPU times: user 6.81 s, sys: 15.4 s, total: 22.2 s\n",
      "Wall time: 7.11 s\n",
      "CPU times: user 7.19 s, sys: 15.3 s, total: 22.5 s\n",
      "Wall time: 7.03 s\n",
      "CPU times: user 7.63 s, sys: 16.1 s, total: 23.7 s\n",
      "Wall time: 7.03 s\n",
      "CPU times: user 7.33 s, sys: 15.6 s, total: 22.9 s\n",
      "Wall time: 6.62 s\n",
      "CPU times: user 7.21 s, sys: 14.5 s, total: 21.7 s\n",
      "Wall time: 6.13 s\n",
      "CPU times: user 6.66 s, sys: 13.4 s, total: 20.1 s\n",
      "Wall time: 5.63 s\n",
      "CPU times: user 6.58 s, sys: 13 s, total: 19.6 s\n",
      "Wall time: 5.5 s\n",
      "CPU times: user 7.41 s, sys: 15 s, total: 22.4 s\n",
      "Wall time: 6.53 s\n",
      "CPU times: user 7.41 s, sys: 15.2 s, total: 22.6 s\n",
      "Wall time: 6.52 s\n",
      "CPU times: user 7.75 s, sys: 16.4 s, total: 24.2 s\n",
      "Wall time: 7.29 s\n",
      "CPU times: user 7.99 s, sys: 17.8 s, total: 25.8 s\n",
      "Wall time: 8.1 s\n",
      "CPU times: user 8.03 s, sys: 16.7 s, total: 24.7 s\n",
      "Wall time: 7.33 s\n",
      "CPU times: user 7.5 s, sys: 15.7 s, total: 23.2 s\n",
      "Wall time: 6.65 s\n",
      "CPU times: user 7.85 s, sys: 16.5 s, total: 24.3 s\n",
      "Wall time: 7.17 s\n"
     ]
    }
   ],
   "source": [
    "aa=np.int(0);\n",
    "\n",
    "lstep = 0.05\n",
    "l=0\n",
    "l_n = np.int(np.ceil(1/lstep)+1)\n",
    "\n",
    "I_shar=np.zeros(l_n);\n",
    "I_uny=np.zeros(l_n);\n",
    "I_unz=np.zeros(l_n);\n",
    "I_syn=np.zeros(l_n);\n",
    "\n",
    "I_shar_z=np.zeros(l_n);\n",
    "I_uny_z=np.zeros(l_n);\n",
    "I_unz_z=np.zeros(l_n);\n",
    "I_syn_z=np.zeros(l_n);\n",
    "\n",
    "#Y and Z are the dice, X is the weighted sum of the two\n",
    "\n",
    "\n",
    "# summed-dice dimensions\n",
    "dimy=np.int(6);\n",
    "dimz=np.int(6);\n",
    " \n",
    "alpha=np.int(1); # relative ratio between the sum coefficients for summing the dice\n",
    " \n",
    "dimx=np.int(np.ceil(dimy+dimz*alpha-1-alpha)+1);\n",
    "\n",
    "\n",
    "\n",
    "#make X the new target\n",
    "dimx_x=dimz;\n",
    "dimy_x=dimy;\n",
    "dimz_x=dimx;\n",
    "\n",
    "\n",
    "while aa<=np.ceil(1/lstep): # loop over different correlations between the dice\n",
    "\n",
    "    \n",
    "    p_yz = np.zeros((dimy,dimz))\n",
    "    \n",
    "    # setting correlations between the dice\n",
    "    for yy in range(0,dimy):\n",
    "        for zz in range(0,dimz):\n",
    "            p_yz[yy,zz]=l/36+(1-l)/6*np.float(zz==yy)\n",
    "    \n",
    "    p_yz=p_yz/p_yz.sum() # p(y,z), joint probability of the two dice alone\n",
    "\n",
    "    p_x_yz=np.zeros((dimx,dimy,dimz)) # p(x|y,z)\n",
    "\n",
    "    #build p(x|y,z) analytically\n",
    "    for xx in range(0,dimx):\n",
    "        for yy in range(0,dimy):\n",
    "            for zz in range(1,dimz):\n",
    "                if xx==np.ceil(zz+alpha*yy)-alpha:\n",
    "                    p_x_yz[xx,yy,zz]=1\n",
    "   \n",
    "    p=np.zeros((dimx,dimy,dimz))\n",
    "\n",
    "    #build p analytically\n",
    "    for xx in range(1,dimx):\n",
    "        for yy in range(1,dimy):\n",
    "            for zz in range(1,dimz):\n",
    "                p[xx,yy,zz]=p_x_yz[xx,yy,zz]*p_yz[yy,zz]\n",
    "\n",
    "    p=p/p.sum() #final normalization\n",
    "\n",
    "    # adapt definitions to those expected by tartu\n",
    "    P = dict()\n",
    "    P_z = dict()\n",
    "    for x in range(0,dimx):\n",
    "        for y in range(0,dimy):\n",
    "            for z in range(0,dimz):\n",
    "                P[(x,y,z)] = p[x,y,z]\n",
    "                P_z[(z,y,x)] = p[x,y,z]\n",
    "\n",
    "    %time [_, _, _, I_syn[aa],I_shar[aa],I_uny[aa],I_unz[aa]] = synergy_tartu.solve_PDF(pdf=P)\n",
    "    #%time [_, _, _, I_syn_z[aa],I_shar_z[aa],I_uny_z[aa],I_unz_z[aa]] = synergy_tartu.solve_PDF(pdf=P_z)\n",
    "    \n",
    "\n",
    "    aa+=1\n",
    "    l+=lstep\n",
    "    "
   ]
  },
  {
   "cell_type": "code",
   "execution_count": 56,
   "metadata": {
    "collapsed": false
   },
   "outputs": [
    {
     "name": "stdout",
     "output_type": "stream",
     "text": [
      "[ -1.23092603e-09   2.79428218e-01   4.93239927e-01   6.82199511e-01\n",
      "   8.54656695e-01   1.01440445e+00   1.16354020e+00   1.30332792e+00\n",
      "   1.43454914e+00   1.55767080e+00   1.67293303e+00   1.78039626e+00\n",
      "   1.87996495e+00   1.97139549e+00   2.05429135e+00   2.12808528e+00\n",
      "   2.19200584e+00   2.24502112e+00   2.28574575e+00   2.31228182e+00\n",
      "   2.32192810e+00]\n"
     ]
    }
   ],
   "source": [
    "print(I_syn)"
   ]
  },
  {
   "cell_type": "code",
   "execution_count": 57,
   "metadata": {
    "collapsed": false
   },
   "outputs": [
    {
     "name": "stdout",
     "output_type": "stream",
     "text": [
      "[ 2.32192809  2.17662626  2.05717878  1.94728441  1.84360975  1.74464646\n",
      "  1.64956723  1.5578816   1.46929629  1.38364901  1.30087456  1.22098763\n",
      "  1.14407537  1.0702971   0.99989011  0.9331823   0.87061356  0.8127703\n",
      "  0.76044171  0.71471535  0.67715147]\n"
     ]
    }
   ],
   "source": [
    "print(I_shar)"
   ]
  },
  {
   "cell_type": "code",
   "execution_count": null,
   "metadata": {
    "collapsed": true
   },
   "outputs": [],
   "source": []
  }
 ],
 "metadata": {
  "kernelspec": {
   "display_name": "Python 3",
   "language": "python",
   "name": "python3"
  },
  "language_info": {
   "codemirror_mode": {
    "name": "ipython",
    "version": 3
   },
   "file_extension": ".py",
   "mimetype": "text/x-python",
   "name": "python",
   "nbconvert_exporter": "python",
   "pygments_lexer": "ipython3",
   "version": "3.5.2"
  }
 },
 "nbformat": 4,
 "nbformat_minor": 0
}
