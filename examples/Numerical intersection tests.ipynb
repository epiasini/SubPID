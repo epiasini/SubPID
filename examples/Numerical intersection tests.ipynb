{
 "cells": [
  {
   "cell_type": "code",
   "execution_count": 1,
   "metadata": {
    "collapsed": false
   },
   "outputs": [],
   "source": [
    "import numpy as np\n",
    "import sys\n",
    "sys.path.append(\"../\")\n",
    "\n",
    "import information_decomposition as pid\n",
    "from intersection_information import intersection_information"
   ]
  },
  {
   "cell_type": "markdown",
   "metadata": {},
   "source": [
    "## A couple of simple binary examples"
   ]
  },
  {
   "cell_type": "code",
   "execution_count": 2,
   "metadata": {
    "collapsed": false
   },
   "outputs": [],
   "source": [
    "# Parameter definitions for the examples\n",
    "sigma = 0.5 # prior probability of s=1\n",
    "rho = 0.1 # bit-flip probability for S->R channel\n",
    "gamma = 0.1 # bit-flip probability for S->C channel where this exists"
   ]
  },
  {
   "cell_type": "code",
   "execution_count": 3,
   "metadata": {
    "collapsed": true
   },
   "outputs": [],
   "source": [
    "# Joint PDF table definitions for the examples\n",
    "\n",
    "# example where SI is only due to signal correlations, as R<-S->C\n",
    "P1 = np.zeros((2,2,2))\n",
    "P1[0,0,0] = sigma*(1-rho)*(1-gamma)\n",
    "P1[0,0,1] = sigma*(1-rho)*(gamma)\n",
    "P1[0,1,0] = sigma*rho*(1-gamma)\n",
    "P1[0,1,1] = sigma*rho*gamma\n",
    "P1[1,0,0] = (1-sigma)*rho*gamma\n",
    "P1[1,0,1] = (1-sigma)*rho*(1-gamma)\n",
    "P1[1,1,0] = (1-sigma)*(1-rho)*(gamma)\n",
    "P1[1,1,1] = (1-sigma)*(1-rho)*(1-gamma)\n",
    "\n",
    "# example that should have nonzero intersection, as S->R==C\n",
    "P2 = np.zeros((2,2,2))\n",
    "P2[0,0,0] = sigma*(1-rho)\n",
    "P2[0,0,1] = 0\n",
    "P2[0,1,0] = 0\n",
    "P2[0,1,1] = sigma*rho\n",
    "P2[1,0,0] = (1-sigma)*rho\n",
    "P2[1,0,1] = 0\n",
    "P2[1,1,0] = 0\n",
    "P2[1,1,1] = (1-sigma)*(1-rho)"
   ]
  },
  {
   "cell_type": "code",
   "execution_count": 4,
   "metadata": {
    "collapsed": false
   },
   "outputs": [
    {
     "name": "stdout",
     "output_type": "stream",
     "text": [
      "(0.0, 0.31992237501539894, 0.31992237501539894)\n",
      "(0.21108203139531984, 0.53100440641071878, 0.31992237501539894)\n"
     ]
    }
   ],
   "source": [
    "# Compute and print intersection information, together with \"non-normalised\" and \"signal correlations-only\" SI values\n",
    "print(intersection_information(P1))\n",
    "print(intersection_information(P2))"
   ]
  },
  {
   "cell_type": "markdown",
   "metadata": {},
   "source": [
    "## Introducing IDTxl"
   ]
  },
  {
   "cell_type": "code",
   "execution_count": 5,
   "metadata": {
    "collapsed": false
   },
   "outputs": [],
   "source": [
    "import idtxl\n",
    "from idtxl.estimators_pid import synergy_tartu"
   ]
  },
  {
   "cell_type": "code",
   "execution_count": 6,
   "metadata": {
    "collapsed": false
   },
   "outputs": [
    {
     "name": "stdout",
     "output_type": "stream",
     "text": [
      "0.531004406411 0.0 0.0 0.0\n"
     ]
    }
   ],
   "source": [
    "# my decomposition for the P2 problem above, as a sanity check\n",
    "[SI, CI, UI_Y, UI_Z] = pid.decomposition(P2)\n",
    "print(SI, CI, UI_Y, UI_Z)"
   ]
  },
  {
   "cell_type": "code",
   "execution_count": 7,
   "metadata": {
    "collapsed": false
   },
   "outputs": [
    {
     "name": "stdout",
     "output_type": "stream",
     "text": [
      "{(0, 1, 1): 0.050000000000000003, (0, 0, 0): 0.45000000000000001, (1, 1, 0): 0.0, (1, 0, 0): 0.050000000000000003, (0, 1, 0): 0.0, (0, 0, 1): 0.0, (1, 1, 1): 0.45000000000000001, (1, 0, 1): 0.0}\n"
     ]
    }
   ],
   "source": [
    "# convert definition of P2 for tartu\n",
    "P = dict()\n",
    "for x in [0,1]:\n",
    "    for y in [0,1]:\n",
    "        for z in [0,1]:\n",
    "            P[(x,y,z)] = P2[x,y,z]\n",
    "print(P)"
   ]
  },
  {
   "cell_type": "code",
   "execution_count": 8,
   "metadata": {
    "collapsed": false
   },
   "outputs": [
    {
     "name": "stdout",
     "output_type": "stream",
     "text": [
      "0.5310044058278642 5.82854542408e-10 0.0 0.0\n"
     ]
    }
   ],
   "source": [
    "[the_p, feas, kkt, wCI, wSI, wUI_Y, wUI_Z] = synergy_tartu.solve_PDF(pdf=P)\n",
    "print(wSI, wCI, wUI_Y, wUI_Z)"
   ]
  },
  {
   "cell_type": "markdown",
   "metadata": {},
   "source": [
    "## Example: dice"
   ]
  },
  {
   "cell_type": "code",
   "execution_count": 12,
   "metadata": {
    "collapsed": false,
    "scrolled": false
   },
   "outputs": [
    {
     "name": "stdout",
     "output_type": "stream",
     "text": [
      "\n",
      "Lambda: 0.00\n",
      "CPU times: user 6.28 s, sys: 12.8 s, total: 19.1 s\n",
      "Wall time: 5.69 s\n",
      "\n",
      "Lambda: 0.05\n",
      "CPU times: user 7.27 s, sys: 15.4 s, total: 22.7 s\n",
      "Wall time: 6.66 s\n",
      "\n",
      "Lambda: 0.10\n",
      "CPU times: user 6.94 s, sys: 14.6 s, total: 21.6 s\n",
      "Wall time: 6.13 s\n",
      "\n",
      "Lambda: 0.15\n",
      "CPU times: user 6.44 s, sys: 12.6 s, total: 19.1 s\n",
      "Wall time: 5.42 s\n",
      "\n",
      "Lambda: 0.20\n",
      "CPU times: user 6.58 s, sys: 13.4 s, total: 20 s\n",
      "Wall time: 5.64 s\n",
      "\n",
      "Lambda: 0.25\n",
      "CPU times: user 6.55 s, sys: 12.5 s, total: 19.1 s\n",
      "Wall time: 5.38 s\n",
      "\n",
      "Lambda: 0.30\n",
      "CPU times: user 6.54 s, sys: 12.7 s, total: 19.2 s\n",
      "Wall time: 5.43 s\n",
      "\n",
      "Lambda: 0.35\n",
      "CPU times: user 6.39 s, sys: 12.3 s, total: 18.7 s\n",
      "Wall time: 5.31 s\n",
      "\n",
      "Lambda: 0.40\n",
      "CPU times: user 7.56 s, sys: 15.7 s, total: 23.3 s\n",
      "Wall time: 6.74 s\n",
      "\n",
      "Lambda: 0.45\n",
      "CPU times: user 7.05 s, sys: 14.3 s, total: 21.3 s\n",
      "Wall time: 6.02 s\n",
      "\n",
      "Lambda: 0.50\n",
      "CPU times: user 6.92 s, sys: 13.8 s, total: 20.7 s\n",
      "Wall time: 5.84 s\n",
      "\n",
      "Lambda: 0.55\n",
      "CPU times: user 8.44 s, sys: 16.7 s, total: 25.2 s\n",
      "Wall time: 7.03 s\n",
      "\n",
      "Lambda: 0.60\n",
      "CPU times: user 8.91 s, sys: 17.7 s, total: 26.6 s\n",
      "Wall time: 7.4 s\n",
      "\n",
      "Lambda: 0.65\n",
      "CPU times: user 8.97 s, sys: 17.6 s, total: 26.5 s\n",
      "Wall time: 7.4 s\n",
      "\n",
      "Lambda: 0.70\n",
      "CPU times: user 9.22 s, sys: 19.4 s, total: 28.6 s\n",
      "Wall time: 8.27 s\n",
      "\n",
      "Lambda: 0.75\n",
      "CPU times: user 9.33 s, sys: 19.3 s, total: 28.6 s\n",
      "Wall time: 8.37 s\n",
      "\n",
      "Lambda: 0.80\n",
      "CPU times: user 9.04 s, sys: 18.2 s, total: 27.3 s\n",
      "Wall time: 7.61 s\n",
      "\n",
      "Lambda: 0.85\n",
      "CPU times: user 9.55 s, sys: 18.7 s, total: 28.2 s\n",
      "Wall time: 7.85 s\n",
      "\n",
      "Lambda: 0.90\n",
      "CPU times: user 9.85 s, sys: 19.2 s, total: 29.1 s\n",
      "Wall time: 8.07 s\n",
      "\n",
      "Lambda: 0.95\n",
      "CPU times: user 9.4 s, sys: 18.6 s, total: 28 s\n",
      "Wall time: 7.78 s\n",
      "\n",
      "Lambda: 1.00\n",
      "CPU times: user 9.5 s, sys: 19.3 s, total: 28.8 s\n",
      "Wall time: 8.2 s\n"
     ]
    }
   ],
   "source": [
    "aa=np.int(0);\n",
    "\n",
    "lstep = 0.05\n",
    "l=0\n",
    "l_n = np.int(np.ceil(1/lstep)+1)\n",
    "\n",
    "I_shar=np.zeros(l_n);\n",
    "I_uny=np.zeros(l_n);\n",
    "I_unz=np.zeros(l_n);\n",
    "I_syn=np.zeros(l_n);\n",
    "\n",
    "I_shar_z=np.zeros(l_n);\n",
    "I_uny_z=np.zeros(l_n);\n",
    "I_unz_z=np.zeros(l_n);\n",
    "I_syn_z=np.zeros(l_n);\n",
    "\n",
    "#Y and Z are the dice, X is the weighted sum of the two\n",
    "\n",
    "\n",
    "# summed-dice dimensions\n",
    "dimy=np.int(6);\n",
    "dimz=np.int(6);\n",
    " \n",
    "alpha=np.int(1); # relative ratio between the sum coefficients for summing the dice\n",
    " \n",
    "dimx=np.int(np.ceil(dimy+dimz*alpha-1-alpha)+1);\n",
    "\n",
    "\n",
    "\n",
    "#make X the new target\n",
    "dimx_x=dimz;\n",
    "dimy_x=dimy;\n",
    "dimz_x=dimx;\n",
    "\n",
    "\n",
    "while aa<=np.ceil(1/lstep): # loop over different correlations between the dice\n",
    "\n",
    "    \n",
    "    p_yz = np.zeros((dimy,dimz))\n",
    "    \n",
    "    # setting correlations between the dice\n",
    "    for yy in range(0,dimy):\n",
    "        for zz in range(0,dimz):\n",
    "            p_yz[yy,zz]=l/36+(1-l)/6*np.float(zz==yy)\n",
    "    \n",
    "    p_yz=p_yz/p_yz.sum() # p(y,z), joint probability of the two dice alone\n",
    "\n",
    "    p_x_yz=np.zeros((dimx,dimy,dimz)) # p(x|y,z)\n",
    "\n",
    "    #build p(x|y,z) analytically\n",
    "    for xx in range(0,dimx):\n",
    "        for yy in range(0,dimy):\n",
    "            for zz in range(0,dimz):\n",
    "                if xx==np.ceil(zz+alpha*yy)-alpha:\n",
    "                    p_x_yz[xx,yy,zz]=1\n",
    "   \n",
    "    p=np.zeros((dimx,dimy,dimz))\n",
    "\n",
    "    #build p analytically\n",
    "    for xx in range(0,dimx):\n",
    "        for yy in range(0,dimy):\n",
    "            for zz in range(0,dimz):\n",
    "                p[xx,yy,zz]=p_x_yz[xx,yy,zz]*p_yz[yy,zz]\n",
    "\n",
    "    p=p/p.sum() #final normalization\n",
    "\n",
    "    # adapt definitions to those expected by tartu\n",
    "    P = dict()\n",
    "    P_z = dict()\n",
    "    for x in range(0,dimx):\n",
    "        for y in range(0,dimy):\n",
    "            for z in range(0,dimz):\n",
    "                P[(x,y,z)] = p[x,y,z]\n",
    "                P_z[(z,y,x)] = p[x,y,z]\n",
    "\n",
    "    print('\\nLambda: {:.2f}'.format(l))\n",
    "    %time [_, _, _, I_syn[aa],I_shar[aa],I_uny[aa],I_unz[aa]] = synergy_tartu.solve_PDF(pdf=P)\n",
    "    #%time [_, _, _, I_syn_z[aa],I_shar_z[aa],I_uny_z[aa],I_unz_z[aa]] = synergy_tartu.solve_PDF(pdf=P_z)\n",
    "    \n",
    "\n",
    "    aa+=1\n",
    "    l+=lstep\n",
    "    "
   ]
  },
  {
   "cell_type": "code",
   "execution_count": 13,
   "metadata": {
    "collapsed": false
   },
   "outputs": [
    {
     "name": "stdout",
     "output_type": "stream",
     "text": [
      "[ -1.23092603e-09   3.62954080e-01   6.35419338e-01   8.70101129e-01\n",
      "   1.07845940e+00   1.26601621e+00   1.43605386e+00   1.59074580e+00\n",
      "   1.73162538e+00   1.85981548e+00   1.97615336e+00   2.08126285e+00\n",
      "   2.17559714e+00   2.25946294e+00   2.33303142e+00   2.39633784e+00\n",
      "   2.44926910e+00   2.49153578e+00   2.52262036e+00   2.54168336e+00\n",
      "   2.54738616e+00]\n"
     ]
    }
   ],
   "source": [
    "print(I_syn)"
   ]
  },
  {
   "cell_type": "code",
   "execution_count": 14,
   "metadata": {
    "collapsed": false
   },
   "outputs": [
    {
     "name": "stdout",
     "output_type": "stream",
     "text": [
      "[ 2.32192809  2.14829493  2.00221035  1.86891262  1.74519403  1.62951543\n",
      "  1.5209715   1.41897497  1.32312654  1.23315213  1.14886976  1.07017184\n",
      "  0.99701649  0.9294252   0.86748589  0.81136164  0.76130686  0.71769419\n",
      "  0.6810595   0.65217958  0.63221598]\n"
     ]
    }
   ],
   "source": [
    "print(I_shar)"
   ]
  },
  {
   "cell_type": "code",
   "execution_count": null,
   "metadata": {
    "collapsed": true
   },
   "outputs": [],
   "source": []
  }
 ],
 "metadata": {
  "kernelspec": {
   "display_name": "Python 3",
   "language": "python",
   "name": "python3"
  },
  "language_info": {
   "codemirror_mode": {
    "name": "ipython",
    "version": 3
   },
   "file_extension": ".py",
   "mimetype": "text/x-python",
   "name": "python",
   "nbconvert_exporter": "python",
   "pygments_lexer": "ipython3",
   "version": "3.5.2"
  }
 },
 "nbformat": 4,
 "nbformat_minor": 0
}
